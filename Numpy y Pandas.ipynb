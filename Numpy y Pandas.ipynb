{
 "cells": [
  {
   "cell_type": "markdown",
   "id": "ed30c766",
   "metadata": {},
   "source": [
    "### EJERCICIO 1\n",
    "Crea los siguientes arrays:\n",
    "\n",
    "* Un array con 10 ceros.\n",
    "* Un array con 10 unos.\n",
    "* Un array con 10 sietes."
   ]
  },
  {
   "cell_type": "code",
   "execution_count": 8,
   "id": "97893a47",
   "metadata": {},
   "outputs": [
    {
     "name": "stdout",
     "output_type": "stream",
     "text": [
      "[0. 0. 0. 0. 0. 0. 0. 0. 0. 0.]\n",
      "[1. 1. 1. 1. 1. 1. 1. 1. 1. 1.]\n",
      "[7. 7. 7. 7. 7. 7. 7. 7. 7. 7.]\n"
     ]
    }
   ],
   "source": [
    "import numpy as np\n",
    "arr1=np.zeros(10)\n",
    "arr2=np.ones(10)\n",
    "arr3=7*np.ones(10)\n",
    "\n",
    "print(arr1)\n",
    "print(arr2)\n",
    "print(arr3)"
   ]
  },
  {
   "cell_type": "markdown",
   "id": "09671d83",
   "metadata": {},
   "source": [
    "### EJERCICIO 2\n",
    "* Crea un array con la secuencia de números del 20 a 40 (ambos inclusive).\n",
    "* Crea un array con la secuencia de números del 20 a 40 (ambos inclusive), tomados de cinco en cinco elementos.\n",
    "* Muestra el array anterior en orden inverso.\n",
    "* Si es posible, intenta reconvertir el array reverso en un nuevo array multidimensional de 2x3. Si no es posible, agrega elementos al array hasta que la longitud del array sea divisible entre tres.\n",
    "* Finalmente, elimina todas las dimensiones del array y devuelve un array plano."
   ]
  },
  {
   "cell_type": "code",
   "execution_count": 19,
   "id": "aecc69d4",
   "metadata": {},
   "outputs": [
    {
     "name": "stdout",
     "output_type": "stream",
     "text": [
      "[20 21 22 23 24 25 26 27 28 29 30 31 32 33 34 35 36 37 38 39 40]\n",
      "[20 25 30 35 40]\n",
      "[40 35 30 25 20]\n"
     ]
    }
   ],
   "source": [
    "import numpy as np\n",
    "arr1=np.arange(20,41)\n",
    "arr2=np.arange(20,41,5)\n",
    "arr3=arr2[-1::-1]\n",
    "\n",
    "print(arr1)\n",
    "print(arr2)\n",
    "print(arr3)"
   ]
  },
  {
   "cell_type": "code",
   "execution_count": 20,
   "id": "1fb3512b",
   "metadata": {},
   "outputs": [
    {
     "ename": "ValueError",
     "evalue": "cannot reshape array of size 5 into shape (2,3)",
     "output_type": "error",
     "traceback": [
      "\u001b[1;31m---------------------------------------------------------------------------\u001b[0m",
      "\u001b[1;31mValueError\u001b[0m                                Traceback (most recent call last)",
      "\u001b[1;32m~\\AppData\\Local\\Temp\\ipykernel_5568\\563573392.py\u001b[0m in \u001b[0;36m<module>\u001b[1;34m\u001b[0m\n\u001b[1;32m----> 1\u001b[1;33m \u001b[0marr4\u001b[0m\u001b[1;33m=\u001b[0m\u001b[0marr3\u001b[0m\u001b[1;33m.\u001b[0m\u001b[0mreshape\u001b[0m\u001b[1;33m(\u001b[0m\u001b[1;36m2\u001b[0m\u001b[1;33m,\u001b[0m\u001b[1;36m3\u001b[0m\u001b[1;33m)\u001b[0m\u001b[1;33m\u001b[0m\u001b[1;33m\u001b[0m\u001b[0m\n\u001b[0m",
      "\u001b[1;31mValueError\u001b[0m: cannot reshape array of size 5 into shape (2,3)"
     ]
    }
   ],
   "source": [
    "arr4=arr3.reshape(2,3)"
   ]
  },
  {
   "cell_type": "code",
   "execution_count": 116,
   "id": "df18f996",
   "metadata": {},
   "outputs": [
    {
     "name": "stdout",
     "output_type": "stream",
     "text": [
      "[40 35 30 25 20  0]\n",
      "[[40 35 30]\n",
      " [25 20  0]]\n"
     ]
    }
   ],
   "source": [
    "while (len(arr3)%3)!=0:\n",
    "    arr3=np.concatenate((arr3,0))\n",
    "print(arr3)\n",
    "arr4=arr3.reshape(2,3)\n",
    "print(arr4)"
   ]
  },
  {
   "cell_type": "code",
   "execution_count": 26,
   "id": "eec53d98",
   "metadata": {},
   "outputs": [
    {
     "name": "stdout",
     "output_type": "stream",
     "text": [
      "[40 35 30 25 20  0]\n"
     ]
    }
   ],
   "source": [
    "arr5=arr4.flatten()\n",
    "print(arr5)"
   ]
  },
  {
   "cell_type": "markdown",
   "id": "c8d7eecd",
   "metadata": {},
   "source": [
    "### EJERCICIO 3\n",
    "* Crea un objeto Pandas series a través de un array de 30 elementos aleatorios que sigan una distribución beta con parámetros 0,1 y 0,8.\n",
    "* Sobre este objeto series crea un dataframe.\n",
    "* Muestra sus primeros y últimos cuatro elementos.\n",
    "* Renombra la columna del dataframe a “BETA_DIST”.\n",
    "* Crea una nueva columna con nombre “SQUARE_BETA”, que sea cada elemento de la distribución beta al cuadrado.\n",
    "* Obtén los histogramas del dataframe."
   ]
  },
  {
   "cell_type": "code",
   "execution_count": 35,
   "id": "a99b8279",
   "metadata": {},
   "outputs": [
    {
     "name": "stdout",
     "output_type": "stream",
     "text": [
      "[6.87947361e-06 2.62943466e-02 2.15709460e-01 2.37016942e-03\n",
      " 6.63027764e-03 5.94339049e-01 2.61141225e-04 3.82045761e-06\n",
      " 4.15188722e-09 2.67389940e-01 1.99842980e-10 5.61124124e-02\n",
      " 6.91349696e-11 6.55237496e-19 1.14004854e-01 2.22356324e-01\n",
      " 1.24233040e-03 7.97362169e-01 3.16641191e-01 1.37523779e-03\n",
      " 1.45708977e-08 1.47241407e-05 8.66786154e-02 2.54833565e-03\n",
      " 6.29054436e-05 4.08368660e-02 3.62230494e-06 1.52968576e-05\n",
      " 2.80713298e-05 7.46427336e-15]\n"
     ]
    }
   ],
   "source": [
    "import numpy as np\n",
    "import pandas as pd\n",
    "\n",
    "arr1=np.random.beta(0.1,0.8,30)\n",
    "print(arr1)"
   ]
  },
  {
   "cell_type": "code",
   "execution_count": 40,
   "id": "5b62b560",
   "metadata": {},
   "outputs": [
    {
     "data": {
      "text/plain": [
       "0     6.879474e-06\n",
       "1     2.629435e-02\n",
       "2     2.157095e-01\n",
       "3     2.370169e-03\n",
       "4     6.630278e-03\n",
       "5     5.943390e-01\n",
       "6     2.611412e-04\n",
       "7     3.820458e-06\n",
       "8     4.151887e-09\n",
       "9     2.673899e-01\n",
       "10    1.998430e-10\n",
       "11    5.611241e-02\n",
       "12    6.913497e-11\n",
       "13    6.552375e-19\n",
       "14    1.140049e-01\n",
       "15    2.223563e-01\n",
       "16    1.242330e-03\n",
       "17    7.973622e-01\n",
       "18    3.166412e-01\n",
       "19    1.375238e-03\n",
       "20    1.457090e-08\n",
       "21    1.472414e-05\n",
       "22    8.667862e-02\n",
       "23    2.548336e-03\n",
       "24    6.290544e-05\n",
       "25    4.083687e-02\n",
       "26    3.622305e-06\n",
       "27    1.529686e-05\n",
       "28    2.807133e-05\n",
       "29    7.464273e-15\n",
       "dtype: float64"
      ]
     },
     "execution_count": 40,
     "metadata": {},
     "output_type": "execute_result"
    }
   ],
   "source": [
    "ser1=pd.Series(arr1)\n",
    "ser1"
   ]
  },
  {
   "cell_type": "code",
   "execution_count": 39,
   "id": "743e329c",
   "metadata": {},
   "outputs": [
    {
     "data": {
      "text/html": [
       "<div>\n",
       "<style scoped>\n",
       "    .dataframe tbody tr th:only-of-type {\n",
       "        vertical-align: middle;\n",
       "    }\n",
       "\n",
       "    .dataframe tbody tr th {\n",
       "        vertical-align: top;\n",
       "    }\n",
       "\n",
       "    .dataframe thead th {\n",
       "        text-align: right;\n",
       "    }\n",
       "</style>\n",
       "<table border=\"1\" class=\"dataframe\">\n",
       "  <thead>\n",
       "    <tr style=\"text-align: right;\">\n",
       "      <th></th>\n",
       "      <th>0</th>\n",
       "    </tr>\n",
       "  </thead>\n",
       "  <tbody>\n",
       "    <tr>\n",
       "      <th>0</th>\n",
       "      <td>6.879474e-06</td>\n",
       "    </tr>\n",
       "    <tr>\n",
       "      <th>1</th>\n",
       "      <td>2.629435e-02</td>\n",
       "    </tr>\n",
       "    <tr>\n",
       "      <th>2</th>\n",
       "      <td>2.157095e-01</td>\n",
       "    </tr>\n",
       "    <tr>\n",
       "      <th>3</th>\n",
       "      <td>2.370169e-03</td>\n",
       "    </tr>\n",
       "    <tr>\n",
       "      <th>4</th>\n",
       "      <td>6.630278e-03</td>\n",
       "    </tr>\n",
       "    <tr>\n",
       "      <th>5</th>\n",
       "      <td>5.943390e-01</td>\n",
       "    </tr>\n",
       "    <tr>\n",
       "      <th>6</th>\n",
       "      <td>2.611412e-04</td>\n",
       "    </tr>\n",
       "    <tr>\n",
       "      <th>7</th>\n",
       "      <td>3.820458e-06</td>\n",
       "    </tr>\n",
       "    <tr>\n",
       "      <th>8</th>\n",
       "      <td>4.151887e-09</td>\n",
       "    </tr>\n",
       "    <tr>\n",
       "      <th>9</th>\n",
       "      <td>2.673899e-01</td>\n",
       "    </tr>\n",
       "    <tr>\n",
       "      <th>10</th>\n",
       "      <td>1.998430e-10</td>\n",
       "    </tr>\n",
       "    <tr>\n",
       "      <th>11</th>\n",
       "      <td>5.611241e-02</td>\n",
       "    </tr>\n",
       "    <tr>\n",
       "      <th>12</th>\n",
       "      <td>6.913497e-11</td>\n",
       "    </tr>\n",
       "    <tr>\n",
       "      <th>13</th>\n",
       "      <td>6.552375e-19</td>\n",
       "    </tr>\n",
       "    <tr>\n",
       "      <th>14</th>\n",
       "      <td>1.140049e-01</td>\n",
       "    </tr>\n",
       "    <tr>\n",
       "      <th>15</th>\n",
       "      <td>2.223563e-01</td>\n",
       "    </tr>\n",
       "    <tr>\n",
       "      <th>16</th>\n",
       "      <td>1.242330e-03</td>\n",
       "    </tr>\n",
       "    <tr>\n",
       "      <th>17</th>\n",
       "      <td>7.973622e-01</td>\n",
       "    </tr>\n",
       "    <tr>\n",
       "      <th>18</th>\n",
       "      <td>3.166412e-01</td>\n",
       "    </tr>\n",
       "    <tr>\n",
       "      <th>19</th>\n",
       "      <td>1.375238e-03</td>\n",
       "    </tr>\n",
       "    <tr>\n",
       "      <th>20</th>\n",
       "      <td>1.457090e-08</td>\n",
       "    </tr>\n",
       "    <tr>\n",
       "      <th>21</th>\n",
       "      <td>1.472414e-05</td>\n",
       "    </tr>\n",
       "    <tr>\n",
       "      <th>22</th>\n",
       "      <td>8.667862e-02</td>\n",
       "    </tr>\n",
       "    <tr>\n",
       "      <th>23</th>\n",
       "      <td>2.548336e-03</td>\n",
       "    </tr>\n",
       "    <tr>\n",
       "      <th>24</th>\n",
       "      <td>6.290544e-05</td>\n",
       "    </tr>\n",
       "    <tr>\n",
       "      <th>25</th>\n",
       "      <td>4.083687e-02</td>\n",
       "    </tr>\n",
       "    <tr>\n",
       "      <th>26</th>\n",
       "      <td>3.622305e-06</td>\n",
       "    </tr>\n",
       "    <tr>\n",
       "      <th>27</th>\n",
       "      <td>1.529686e-05</td>\n",
       "    </tr>\n",
       "    <tr>\n",
       "      <th>28</th>\n",
       "      <td>2.807133e-05</td>\n",
       "    </tr>\n",
       "    <tr>\n",
       "      <th>29</th>\n",
       "      <td>7.464273e-15</td>\n",
       "    </tr>\n",
       "  </tbody>\n",
       "</table>\n",
       "</div>"
      ],
      "text/plain": [
       "               0\n",
       "0   6.879474e-06\n",
       "1   2.629435e-02\n",
       "2   2.157095e-01\n",
       "3   2.370169e-03\n",
       "4   6.630278e-03\n",
       "5   5.943390e-01\n",
       "6   2.611412e-04\n",
       "7   3.820458e-06\n",
       "8   4.151887e-09\n",
       "9   2.673899e-01\n",
       "10  1.998430e-10\n",
       "11  5.611241e-02\n",
       "12  6.913497e-11\n",
       "13  6.552375e-19\n",
       "14  1.140049e-01\n",
       "15  2.223563e-01\n",
       "16  1.242330e-03\n",
       "17  7.973622e-01\n",
       "18  3.166412e-01\n",
       "19  1.375238e-03\n",
       "20  1.457090e-08\n",
       "21  1.472414e-05\n",
       "22  8.667862e-02\n",
       "23  2.548336e-03\n",
       "24  6.290544e-05\n",
       "25  4.083687e-02\n",
       "26  3.622305e-06\n",
       "27  1.529686e-05\n",
       "28  2.807133e-05\n",
       "29  7.464273e-15"
      ]
     },
     "execution_count": 39,
     "metadata": {},
     "output_type": "execute_result"
    }
   ],
   "source": [
    "dF1=pd.DataFrame(ser1)\n",
    "dF1"
   ]
  },
  {
   "cell_type": "code",
   "execution_count": 44,
   "id": "8643eadf",
   "metadata": {},
   "outputs": [
    {
     "data": {
      "text/html": [
       "<div>\n",
       "<style scoped>\n",
       "    .dataframe tbody tr th:only-of-type {\n",
       "        vertical-align: middle;\n",
       "    }\n",
       "\n",
       "    .dataframe tbody tr th {\n",
       "        vertical-align: top;\n",
       "    }\n",
       "\n",
       "    .dataframe thead th {\n",
       "        text-align: right;\n",
       "    }\n",
       "</style>\n",
       "<table border=\"1\" class=\"dataframe\">\n",
       "  <thead>\n",
       "    <tr style=\"text-align: right;\">\n",
       "      <th></th>\n",
       "      <th>0</th>\n",
       "    </tr>\n",
       "  </thead>\n",
       "  <tbody>\n",
       "    <tr>\n",
       "      <th>0</th>\n",
       "      <td>0.000007</td>\n",
       "    </tr>\n",
       "    <tr>\n",
       "      <th>1</th>\n",
       "      <td>0.026294</td>\n",
       "    </tr>\n",
       "    <tr>\n",
       "      <th>2</th>\n",
       "      <td>0.215709</td>\n",
       "    </tr>\n",
       "    <tr>\n",
       "      <th>3</th>\n",
       "      <td>0.002370</td>\n",
       "    </tr>\n",
       "  </tbody>\n",
       "</table>\n",
       "</div>"
      ],
      "text/plain": [
       "          0\n",
       "0  0.000007\n",
       "1  0.026294\n",
       "2  0.215709\n",
       "3  0.002370"
      ]
     },
     "execution_count": 44,
     "metadata": {},
     "output_type": "execute_result"
    }
   ],
   "source": [
    "dF1.head(4)"
   ]
  },
  {
   "cell_type": "code",
   "execution_count": 45,
   "id": "83e2f77e",
   "metadata": {},
   "outputs": [
    {
     "data": {
      "text/html": [
       "<div>\n",
       "<style scoped>\n",
       "    .dataframe tbody tr th:only-of-type {\n",
       "        vertical-align: middle;\n",
       "    }\n",
       "\n",
       "    .dataframe tbody tr th {\n",
       "        vertical-align: top;\n",
       "    }\n",
       "\n",
       "    .dataframe thead th {\n",
       "        text-align: right;\n",
       "    }\n",
       "</style>\n",
       "<table border=\"1\" class=\"dataframe\">\n",
       "  <thead>\n",
       "    <tr style=\"text-align: right;\">\n",
       "      <th></th>\n",
       "      <th>0</th>\n",
       "    </tr>\n",
       "  </thead>\n",
       "  <tbody>\n",
       "    <tr>\n",
       "      <th>26</th>\n",
       "      <td>3.622305e-06</td>\n",
       "    </tr>\n",
       "    <tr>\n",
       "      <th>27</th>\n",
       "      <td>1.529686e-05</td>\n",
       "    </tr>\n",
       "    <tr>\n",
       "      <th>28</th>\n",
       "      <td>2.807133e-05</td>\n",
       "    </tr>\n",
       "    <tr>\n",
       "      <th>29</th>\n",
       "      <td>7.464273e-15</td>\n",
       "    </tr>\n",
       "  </tbody>\n",
       "</table>\n",
       "</div>"
      ],
      "text/plain": [
       "               0\n",
       "26  3.622305e-06\n",
       "27  1.529686e-05\n",
       "28  2.807133e-05\n",
       "29  7.464273e-15"
      ]
     },
     "execution_count": 45,
     "metadata": {},
     "output_type": "execute_result"
    }
   ],
   "source": [
    "dF1.tail(4)"
   ]
  },
  {
   "cell_type": "code",
   "execution_count": 52,
   "id": "31572914",
   "metadata": {},
   "outputs": [
    {
     "data": {
      "text/html": [
       "<div>\n",
       "<style scoped>\n",
       "    .dataframe tbody tr th:only-of-type {\n",
       "        vertical-align: middle;\n",
       "    }\n",
       "\n",
       "    .dataframe tbody tr th {\n",
       "        vertical-align: top;\n",
       "    }\n",
       "\n",
       "    .dataframe thead th {\n",
       "        text-align: right;\n",
       "    }\n",
       "</style>\n",
       "<table border=\"1\" class=\"dataframe\">\n",
       "  <thead>\n",
       "    <tr style=\"text-align: right;\">\n",
       "      <th></th>\n",
       "      <th>BETA_DIST</th>\n",
       "    </tr>\n",
       "  </thead>\n",
       "  <tbody>\n",
       "    <tr>\n",
       "      <th>0</th>\n",
       "      <td>0.000007</td>\n",
       "    </tr>\n",
       "    <tr>\n",
       "      <th>1</th>\n",
       "      <td>0.026294</td>\n",
       "    </tr>\n",
       "    <tr>\n",
       "      <th>2</th>\n",
       "      <td>0.215709</td>\n",
       "    </tr>\n",
       "    <tr>\n",
       "      <th>3</th>\n",
       "      <td>0.002370</td>\n",
       "    </tr>\n",
       "  </tbody>\n",
       "</table>\n",
       "</div>"
      ],
      "text/plain": [
       "   BETA_DIST\n",
       "0   0.000007\n",
       "1   0.026294\n",
       "2   0.215709\n",
       "3   0.002370"
      ]
     },
     "execution_count": 52,
     "metadata": {},
     "output_type": "execute_result"
    }
   ],
   "source": [
    "dF1.columns=[\"BETA_DIST\"]\n",
    "dF1.head(4)"
   ]
  },
  {
   "cell_type": "code",
   "execution_count": 55,
   "id": "ab6e1475",
   "metadata": {},
   "outputs": [
    {
     "data": {
      "text/html": [
       "<div>\n",
       "<style scoped>\n",
       "    .dataframe tbody tr th:only-of-type {\n",
       "        vertical-align: middle;\n",
       "    }\n",
       "\n",
       "    .dataframe tbody tr th {\n",
       "        vertical-align: top;\n",
       "    }\n",
       "\n",
       "    .dataframe thead th {\n",
       "        text-align: right;\n",
       "    }\n",
       "</style>\n",
       "<table border=\"1\" class=\"dataframe\">\n",
       "  <thead>\n",
       "    <tr style=\"text-align: right;\">\n",
       "      <th></th>\n",
       "      <th>BETA_DIST</th>\n",
       "      <th>SQUARE_BETA</th>\n",
       "    </tr>\n",
       "  </thead>\n",
       "  <tbody>\n",
       "    <tr>\n",
       "      <th>0</th>\n",
       "      <td>0.000007</td>\n",
       "      <td>4.732716e-11</td>\n",
       "    </tr>\n",
       "    <tr>\n",
       "      <th>1</th>\n",
       "      <td>0.026294</td>\n",
       "      <td>6.913927e-04</td>\n",
       "    </tr>\n",
       "    <tr>\n",
       "      <th>2</th>\n",
       "      <td>0.215709</td>\n",
       "      <td>4.653057e-02</td>\n",
       "    </tr>\n",
       "    <tr>\n",
       "      <th>3</th>\n",
       "      <td>0.002370</td>\n",
       "      <td>5.617703e-06</td>\n",
       "    </tr>\n",
       "  </tbody>\n",
       "</table>\n",
       "</div>"
      ],
      "text/plain": [
       "   BETA_DIST   SQUARE_BETA\n",
       "0   0.000007  4.732716e-11\n",
       "1   0.026294  6.913927e-04\n",
       "2   0.215709  4.653057e-02\n",
       "3   0.002370  5.617703e-06"
      ]
     },
     "execution_count": 55,
     "metadata": {},
     "output_type": "execute_result"
    }
   ],
   "source": [
    "dF1[\"SQUARE_BETA\"]=dF1[\"BETA_DIST\"]**2\n",
    "dF1.head(4)"
   ]
  },
  {
   "cell_type": "code",
   "execution_count": 57,
   "id": "366d4546",
   "metadata": {},
   "outputs": [
    {
     "name": "stdout",
     "output_type": "stream",
     "text": [
      "Using matplotlib backend: <object object at 0x0000024C0300C420>\n",
      "Populating the interactive namespace from numpy and matplotlib\n"
     ]
    },
    {
     "data": {
      "text/plain": [
       "array([[<AxesSubplot:title={'center':'BETA_DIST'}>,\n",
       "        <AxesSubplot:title={'center':'SQUARE_BETA'}>]], dtype=object)"
      ]
     },
     "execution_count": 57,
     "metadata": {},
     "output_type": "execute_result"
    },
    {
     "data": {
      "image/png": "[encoded data removed]",
      "text/plain": [
       "<Figure size 200x200 with 2 Axes>"
      ]
     },
     "metadata": {
      "image/png": {
       "height": 218,
       "width": 228
      }
     },
     "output_type": "display_data"
    }
   ],
   "source": [
    "%pylab\n",
    "%matplotlib inline\n",
    "%config InlineBackend.figure_format=\"retina\"\n",
    "\n",
    "dF1.hist(figsize=(len(dF1.columns),len(dF1.columns)))"
   ]
  },
  {
   "cell_type": "markdown",
   "id": "65c9b2ba",
   "metadata": {},
   "source": [
    "### EJERCICIO 4\n",
    "A partir de las siguientes notas de un examen:\n",
    "\n",
    "edad = np.random.randint(15, 18, 10)\n",
    "\n",
    "puntuacion = [3.25, 8.5, 7.75, np.nan, 9.80, 4, 6.5, np.nan, 8.70, 5.5]\n",
    "\n",
    "* Crea un dataframe en donde el array “edad” tenga como nombre de columna “Edad” y, para la lista “puntuación”, nombre “Puntuacion”.\n",
    "* Sustituye los valores nulos por 0.\n",
    "* Crea una nueva columna llamada “Situacion” que tenga como valores “PROMOCIONA” o “REPITE” en función de si los valores de la columna “Puntuacion” son mayores a cinco o no.\n",
    "* Agrupa el nuevo dataframe por la media de edad.\n",
    "* Obtén el porcentaje de aprobados y repetidores.\n",
    "* Realiza una matriz de análisis gráfico.\n",
    "* Obtén una matriz de correlación sobre los datos numéricos."
   ]
  },
  {
   "cell_type": "code",
   "execution_count": 67,
   "id": "f6a531c1",
   "metadata": {},
   "outputs": [],
   "source": [
    "import numpy as np\n",
    "import pandas as pd\n",
    "\n",
    "edad = np.random.randint(15, 18, 10)\n",
    "puntuacion = [3.25, 8.5, 7.75, np.nan, 9.80, 4, 6.5, np.nan, 8.70, 5.5]"
   ]
  },
  {
   "cell_type": "code",
   "execution_count": 86,
   "id": "321bdcc1",
   "metadata": {},
   "outputs": [
    {
     "data": {
      "text/html": [
       "<div>\n",
       "<style scoped>\n",
       "    .dataframe tbody tr th:only-of-type {\n",
       "        vertical-align: middle;\n",
       "    }\n",
       "\n",
       "    .dataframe tbody tr th {\n",
       "        vertical-align: top;\n",
       "    }\n",
       "\n",
       "    .dataframe thead th {\n",
       "        text-align: right;\n",
       "    }\n",
       "</style>\n",
       "<table border=\"1\" class=\"dataframe\">\n",
       "  <thead>\n",
       "    <tr style=\"text-align: right;\">\n",
       "      <th></th>\n",
       "      <th>Edad</th>\n",
       "      <th>Puntuacion</th>\n",
       "    </tr>\n",
       "  </thead>\n",
       "  <tbody>\n",
       "    <tr>\n",
       "      <th>0</th>\n",
       "      <td>17</td>\n",
       "      <td>3.25</td>\n",
       "    </tr>\n",
       "    <tr>\n",
       "      <th>1</th>\n",
       "      <td>15</td>\n",
       "      <td>8.50</td>\n",
       "    </tr>\n",
       "    <tr>\n",
       "      <th>2</th>\n",
       "      <td>15</td>\n",
       "      <td>7.75</td>\n",
       "    </tr>\n",
       "    <tr>\n",
       "      <th>3</th>\n",
       "      <td>16</td>\n",
       "      <td>NaN</td>\n",
       "    </tr>\n",
       "    <tr>\n",
       "      <th>4</th>\n",
       "      <td>16</td>\n",
       "      <td>9.80</td>\n",
       "    </tr>\n",
       "    <tr>\n",
       "      <th>5</th>\n",
       "      <td>17</td>\n",
       "      <td>4.00</td>\n",
       "    </tr>\n",
       "    <tr>\n",
       "      <th>6</th>\n",
       "      <td>16</td>\n",
       "      <td>6.50</td>\n",
       "    </tr>\n",
       "    <tr>\n",
       "      <th>7</th>\n",
       "      <td>17</td>\n",
       "      <td>NaN</td>\n",
       "    </tr>\n",
       "    <tr>\n",
       "      <th>8</th>\n",
       "      <td>16</td>\n",
       "      <td>8.70</td>\n",
       "    </tr>\n",
       "    <tr>\n",
       "      <th>9</th>\n",
       "      <td>15</td>\n",
       "      <td>5.50</td>\n",
       "    </tr>\n",
       "  </tbody>\n",
       "</table>\n",
       "</div>"
      ],
      "text/plain": [
       "   Edad  Puntuacion\n",
       "0    17        3.25\n",
       "1    15        8.50\n",
       "2    15        7.75\n",
       "3    16         NaN\n",
       "4    16        9.80\n",
       "5    17        4.00\n",
       "6    16        6.50\n",
       "7    17         NaN\n",
       "8    16        8.70\n",
       "9    15        5.50"
      ]
     },
     "execution_count": 86,
     "metadata": {},
     "output_type": "execute_result"
    }
   ],
   "source": [
    "df1=pd.DataFrame(edad)\n",
    "df2=pd.DataFrame(puntuacion)\n",
    "df3=pd.concat([df1,df2],ignore_index=True,join=\"outer\",axis=1)\n",
    "df3.columns=[\"Edad\",\"Puntuacion\"]\n",
    "df3"
   ]
  },
  {
   "cell_type": "code",
   "execution_count": 89,
   "id": "232ce9f0",
   "metadata": {},
   "outputs": [
    {
     "data": {
      "text/plain": [
       "Edad          0\n",
       "Puntuacion    2\n",
       "dtype: int64"
      ]
     },
     "execution_count": 89,
     "metadata": {},
     "output_type": "execute_result"
    }
   ],
   "source": [
    "df3.isnull().sum()"
   ]
  },
  {
   "cell_type": "code",
   "execution_count": 96,
   "id": "af666ce3",
   "metadata": {},
   "outputs": [
    {
     "data": {
      "text/html": [
       "<div>\n",
       "<style scoped>\n",
       "    .dataframe tbody tr th:only-of-type {\n",
       "        vertical-align: middle;\n",
       "    }\n",
       "\n",
       "    .dataframe tbody tr th {\n",
       "        vertical-align: top;\n",
       "    }\n",
       "\n",
       "    .dataframe thead th {\n",
       "        text-align: right;\n",
       "    }\n",
       "</style>\n",
       "<table border=\"1\" class=\"dataframe\">\n",
       "  <thead>\n",
       "    <tr style=\"text-align: right;\">\n",
       "      <th></th>\n",
       "      <th>Edad</th>\n",
       "      <th>Puntuacion</th>\n",
       "    </tr>\n",
       "  </thead>\n",
       "  <tbody>\n",
       "    <tr>\n",
       "      <th>0</th>\n",
       "      <td>17</td>\n",
       "      <td>3.25</td>\n",
       "    </tr>\n",
       "    <tr>\n",
       "      <th>1</th>\n",
       "      <td>15</td>\n",
       "      <td>8.50</td>\n",
       "    </tr>\n",
       "    <tr>\n",
       "      <th>2</th>\n",
       "      <td>15</td>\n",
       "      <td>7.75</td>\n",
       "    </tr>\n",
       "    <tr>\n",
       "      <th>3</th>\n",
       "      <td>16</td>\n",
       "      <td>0.00</td>\n",
       "    </tr>\n",
       "    <tr>\n",
       "      <th>4</th>\n",
       "      <td>16</td>\n",
       "      <td>9.80</td>\n",
       "    </tr>\n",
       "    <tr>\n",
       "      <th>5</th>\n",
       "      <td>17</td>\n",
       "      <td>4.00</td>\n",
       "    </tr>\n",
       "    <tr>\n",
       "      <th>6</th>\n",
       "      <td>16</td>\n",
       "      <td>6.50</td>\n",
       "    </tr>\n",
       "    <tr>\n",
       "      <th>7</th>\n",
       "      <td>17</td>\n",
       "      <td>0.00</td>\n",
       "    </tr>\n",
       "    <tr>\n",
       "      <th>8</th>\n",
       "      <td>16</td>\n",
       "      <td>8.70</td>\n",
       "    </tr>\n",
       "    <tr>\n",
       "      <th>9</th>\n",
       "      <td>15</td>\n",
       "      <td>5.50</td>\n",
       "    </tr>\n",
       "  </tbody>\n",
       "</table>\n",
       "</div>"
      ],
      "text/plain": [
       "   Edad  Puntuacion\n",
       "0    17        3.25\n",
       "1    15        8.50\n",
       "2    15        7.75\n",
       "3    16        0.00\n",
       "4    16        9.80\n",
       "5    17        4.00\n",
       "6    16        6.50\n",
       "7    17        0.00\n",
       "8    16        8.70\n",
       "9    15        5.50"
      ]
     },
     "execution_count": 96,
     "metadata": {},
     "output_type": "execute_result"
    }
   ],
   "source": [
    "df3.fillna(0)"
   ]
  },
  {
   "cell_type": "code",
   "execution_count": 102,
   "id": "4dacbebd",
   "metadata": {},
   "outputs": [
    {
     "data": {
      "text/html": [
       "<div>\n",
       "<style scoped>\n",
       "    .dataframe tbody tr th:only-of-type {\n",
       "        vertical-align: middle;\n",
       "    }\n",
       "\n",
       "    .dataframe tbody tr th {\n",
       "        vertical-align: top;\n",
       "    }\n",
       "\n",
       "    .dataframe thead th {\n",
       "        text-align: right;\n",
       "    }\n",
       "</style>\n",
       "<table border=\"1\" class=\"dataframe\">\n",
       "  <thead>\n",
       "    <tr style=\"text-align: right;\">\n",
       "      <th></th>\n",
       "      <th>Edad</th>\n",
       "      <th>Puntuacion</th>\n",
       "      <th>Situacion</th>\n",
       "    </tr>\n",
       "  </thead>\n",
       "  <tbody>\n",
       "    <tr>\n",
       "      <th>0</th>\n",
       "      <td>17</td>\n",
       "      <td>3.25</td>\n",
       "      <td>REPITE</td>\n",
       "    </tr>\n",
       "    <tr>\n",
       "      <th>1</th>\n",
       "      <td>15</td>\n",
       "      <td>8.50</td>\n",
       "      <td>PROMOCIONA</td>\n",
       "    </tr>\n",
       "    <tr>\n",
       "      <th>2</th>\n",
       "      <td>15</td>\n",
       "      <td>7.75</td>\n",
       "      <td>PROMOCIONA</td>\n",
       "    </tr>\n",
       "    <tr>\n",
       "      <th>3</th>\n",
       "      <td>16</td>\n",
       "      <td>0.00</td>\n",
       "      <td>REPITE</td>\n",
       "    </tr>\n",
       "    <tr>\n",
       "      <th>4</th>\n",
       "      <td>16</td>\n",
       "      <td>9.80</td>\n",
       "      <td>PROMOCIONA</td>\n",
       "    </tr>\n",
       "    <tr>\n",
       "      <th>5</th>\n",
       "      <td>17</td>\n",
       "      <td>4.00</td>\n",
       "      <td>REPITE</td>\n",
       "    </tr>\n",
       "    <tr>\n",
       "      <th>6</th>\n",
       "      <td>16</td>\n",
       "      <td>6.50</td>\n",
       "      <td>PROMOCIONA</td>\n",
       "    </tr>\n",
       "    <tr>\n",
       "      <th>7</th>\n",
       "      <td>17</td>\n",
       "      <td>0.00</td>\n",
       "      <td>REPITE</td>\n",
       "    </tr>\n",
       "    <tr>\n",
       "      <th>8</th>\n",
       "      <td>16</td>\n",
       "      <td>8.70</td>\n",
       "      <td>PROMOCIONA</td>\n",
       "    </tr>\n",
       "    <tr>\n",
       "      <th>9</th>\n",
       "      <td>15</td>\n",
       "      <td>5.50</td>\n",
       "      <td>PROMOCIONA</td>\n",
       "    </tr>\n",
       "  </tbody>\n",
       "</table>\n",
       "</div>"
      ],
      "text/plain": [
       "   Edad  Puntuacion   Situacion\n",
       "0    17        3.25      REPITE\n",
       "1    15        8.50  PROMOCIONA\n",
       "2    15        7.75  PROMOCIONA\n",
       "3    16        0.00      REPITE\n",
       "4    16        9.80  PROMOCIONA\n",
       "5    17        4.00      REPITE\n",
       "6    16        6.50  PROMOCIONA\n",
       "7    17        0.00      REPITE\n",
       "8    16        8.70  PROMOCIONA\n",
       "9    15        5.50  PROMOCIONA"
      ]
     },
     "execution_count": 102,
     "metadata": {},
     "output_type": "execute_result"
    }
   ],
   "source": [
    "sit=[]\n",
    "df3=df3.fillna(0)\n",
    "for i in df3[\"Puntuacion\"]:\n",
    "    if i>5:\n",
    "        sit.append(\"PROMOCIONA\")\n",
    "    else:\n",
    "        sit.append(\"REPITE\")\n",
    "\n",
    "df3[\"Situacion\"]=pd.Series(sit)\n",
    "df3"
   ]
  },
  {
   "cell_type": "code",
   "execution_count": 103,
   "id": "3bb5ca98",
   "metadata": {},
   "outputs": [
    {
     "data": {
      "text/html": [
       "<div>\n",
       "<style scoped>\n",
       "    .dataframe tbody tr th:only-of-type {\n",
       "        vertical-align: middle;\n",
       "    }\n",
       "\n",
       "    .dataframe tbody tr th {\n",
       "        vertical-align: top;\n",
       "    }\n",
       "\n",
       "    .dataframe thead th {\n",
       "        text-align: right;\n",
       "    }\n",
       "</style>\n",
       "<table border=\"1\" class=\"dataframe\">\n",
       "  <thead>\n",
       "    <tr style=\"text-align: right;\">\n",
       "      <th></th>\n",
       "      <th>Puntuacion</th>\n",
       "    </tr>\n",
       "    <tr>\n",
       "      <th>Edad</th>\n",
       "      <th></th>\n",
       "    </tr>\n",
       "  </thead>\n",
       "  <tbody>\n",
       "    <tr>\n",
       "      <th>15</th>\n",
       "      <td>7.250000</td>\n",
       "    </tr>\n",
       "    <tr>\n",
       "      <th>16</th>\n",
       "      <td>6.250000</td>\n",
       "    </tr>\n",
       "    <tr>\n",
       "      <th>17</th>\n",
       "      <td>2.416667</td>\n",
       "    </tr>\n",
       "  </tbody>\n",
       "</table>\n",
       "</div>"
      ],
      "text/plain": [
       "      Puntuacion\n",
       "Edad            \n",
       "15      7.250000\n",
       "16      6.250000\n",
       "17      2.416667"
      ]
     },
     "execution_count": 103,
     "metadata": {},
     "output_type": "execute_result"
    }
   ],
   "source": [
    "df3.groupby([\"Edad\"]).mean()"
   ]
  },
  {
   "cell_type": "code",
   "execution_count": 121,
   "id": "bcd03131",
   "metadata": {},
   "outputs": [
    {
     "data": {
      "text/html": [
       "<div>\n",
       "<style scoped>\n",
       "    .dataframe tbody tr th:only-of-type {\n",
       "        vertical-align: middle;\n",
       "    }\n",
       "\n",
       "    .dataframe tbody tr th {\n",
       "        vertical-align: top;\n",
       "    }\n",
       "\n",
       "    .dataframe thead th {\n",
       "        text-align: right;\n",
       "    }\n",
       "</style>\n",
       "<table border=\"1\" class=\"dataframe\">\n",
       "  <thead>\n",
       "    <tr style=\"text-align: right;\">\n",
       "      <th>col_0</th>\n",
       "      <th>count</th>\n",
       "    </tr>\n",
       "    <tr>\n",
       "      <th>Situacion</th>\n",
       "      <th></th>\n",
       "    </tr>\n",
       "  </thead>\n",
       "  <tbody>\n",
       "    <tr>\n",
       "      <th>PROMOCIONA</th>\n",
       "      <td>60.0</td>\n",
       "    </tr>\n",
       "    <tr>\n",
       "      <th>REPITE</th>\n",
       "      <td>40.0</td>\n",
       "    </tr>\n",
       "  </tbody>\n",
       "</table>\n",
       "</div>"
      ],
      "text/plain": [
       "col_0       count\n",
       "Situacion        \n",
       "PROMOCIONA   60.0\n",
       "REPITE       40.0"
      ]
     },
     "execution_count": 121,
     "metadata": {},
     "output_type": "execute_result"
    }
   ],
   "source": [
    "df3.groupby([\"Situacion\"]).count()/len(df3)*100\n",
    "(pd.crosstab(index=df3[\"Situacion\"], columns=\"count\"))/len(df3) * 100"
   ]
  },
  {
   "cell_type": "code",
   "execution_count": 110,
   "id": "a70e651c",
   "metadata": {},
   "outputs": [
    {
     "name": "stdout",
     "output_type": "stream",
     "text": [
      "Using matplotlib backend: QtAgg\n",
      "Populating the interactive namespace from numpy and matplotlib\n"
     ]
    }
   ],
   "source": [
    "%pylab\n",
    "%matplotlib inline\n",
    "%config InlineBackend.figure_format=\"retina\"\n",
    "\n",
    "from pandas.plotting import scatter_matrix\n"
   ]
  },
  {
   "cell_type": "code",
   "execution_count": 123,
   "id": "577672fb",
   "metadata": {},
   "outputs": [
    {
     "data": {
      "image/png": "[encoded data removed]",
      "text/plain": [
       "<Figure size 200x200 with 4 Axes>"
      ]
     },
     "metadata": {
      "image/png": {
       "height": 220,
       "width": 223
      }
     },
     "output_type": "display_data"
    }
   ],
   "source": [
    "scatter_matrix(df3,figsize=(len(dF1.columns),len(dF1.columns)),diagonal=\"kde\");"
   ]
  },
  {
   "cell_type": "code",
   "execution_count": 124,
   "id": "6fd9e562",
   "metadata": {},
   "outputs": [
    {
     "data": {
      "text/html": [
       "<div>\n",
       "<style scoped>\n",
       "    .dataframe tbody tr th:only-of-type {\n",
       "        vertical-align: middle;\n",
       "    }\n",
       "\n",
       "    .dataframe tbody tr th {\n",
       "        vertical-align: top;\n",
       "    }\n",
       "\n",
       "    .dataframe thead th {\n",
       "        text-align: right;\n",
       "    }\n",
       "</style>\n",
       "<table border=\"1\" class=\"dataframe\">\n",
       "  <thead>\n",
       "    <tr style=\"text-align: right;\">\n",
       "      <th></th>\n",
       "      <th>Edad</th>\n",
       "      <th>Puntuacion</th>\n",
       "    </tr>\n",
       "  </thead>\n",
       "  <tbody>\n",
       "    <tr>\n",
       "      <th>Edad</th>\n",
       "      <td>1.00000</td>\n",
       "      <td>-0.56059</td>\n",
       "    </tr>\n",
       "    <tr>\n",
       "      <th>Puntuacion</th>\n",
       "      <td>-0.56059</td>\n",
       "      <td>1.00000</td>\n",
       "    </tr>\n",
       "  </tbody>\n",
       "</table>\n",
       "</div>"
      ],
      "text/plain": [
       "               Edad  Puntuacion\n",
       "Edad        1.00000    -0.56059\n",
       "Puntuacion -0.56059     1.00000"
      ]
     },
     "execution_count": 124,
     "metadata": {},
     "output_type": "execute_result"
    }
   ],
   "source": [
    "df3.corr()"
   ]
  },
  {
   "cell_type": "code",
   "execution_count": null,
   "id": "3528597a",
   "metadata": {},
   "outputs": [],
   "source": []
  }
 ],
 "metadata": {
  "kernelspec": {
   "display_name": "Python 3 (ipykernel)",
   "language": "python",
   "name": "python3"
  },
  "language_info": {
   "codemirror_mode": {
    "name": "ipython",
    "version": 3
   },
   "file_extension": ".py",
   "mimetype": "text/x-python",
   "name": "python",
   "nbconvert_exporter": "python",
   "pygments_lexer": "ipython3",
   "version": "3.9.13"
  }
 },
 "nbformat": 4,
 "nbformat_minor": 5
}
