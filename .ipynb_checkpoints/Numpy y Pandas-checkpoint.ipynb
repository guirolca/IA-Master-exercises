{
 "cells": [
  {
   "cell_type": "markdown",
   "id": "3c659ad7",
   "metadata": {},
   "source": [
    "### EJERCICIO 1\n",
    "Crea los siguientes arrays:\n",
    "\n",
    "* Un array con 10 ceros.\n",
    "* Un array con 10 unos.\n",
    "* Un array con 10 sietes."
   ]
  },
  {
   "cell_type": "code",
   "execution_count": 1,
   "id": "589d2aab",
   "metadata": {},
   "outputs": [
    {
     "name": "stdout",
     "output_type": "stream",
     "text": [
      "[0. 0. 0. 0. 0. 0. 0. 0. 0. 0.] [1. 1. 1. 1. 1. 1. 1. 1. 1. 1.] [7. 7. 7. 7. 7. 7. 7. 7. 7. 7.]\n"
     ]
    }
   ],
   "source": [
    "import numpy as np\n",
    "arr1=np.zeros(10)\n",
    "arr2=np.ones(10)\n",
    "arr3=7*np.ones(10)\n",
    "\n",
    "print(arr1,arr2,arr3)"
   ]
  },
  {
   "cell_type": "markdown",
   "id": "a42b3b26",
   "metadata": {},
   "source": [
    "### EJERCICIO 2\n",
    "* Crea un array con la secuencia de números del 20 a 40 (ambos inclusive).\n",
    "* Crea un array con la secuencia de números del 20 a 40 (ambos inclusive), tomados de cinco en cinco elementos.\n",
    "* Muestra el array anterior en orden inverso.\n",
    "* Si es posible, intenta reconvertir el array reverso en un nuevo array multidimensional de 2x3. Si no es posible, agrega elementos al array hasta que la longitud del array sea divisible entre tres.\n",
    "* Finalmente, elimina todas las dimensiones del array y devuelve un array plano."
   ]
  },
  {
   "cell_type": "code",
   "execution_count": null,
   "id": "48feb857",
   "metadata": {},
   "outputs": [],
   "source": [
    "import numpy as np\n",
    "arr1=np.arange(20,41)\n",
    "print(arr1"
   ]
  }
 ],
 "metadata": {
  "kernelspec": {
   "display_name": "Python 3 (ipykernel)",
   "language": "python",
   "name": "python3"
  },
  "language_info": {
   "codemirror_mode": {
    "name": "ipython",
    "version": 3
   },
   "file_extension": ".py",
   "mimetype": "text/x-python",
   "name": "python",
   "nbconvert_exporter": "python",
   "pygments_lexer": "ipython3",
   "version": "3.9.13"
  }
 },
 "nbformat": 4,
 "nbformat_minor": 5
}
