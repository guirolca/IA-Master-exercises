{
 "cells": [
  {
   "cell_type": "markdown",
   "id": "5c6c816f",
   "metadata": {},
   "source": [
    "### **EJERCICIO 1**\n",
    "Escribir una función que reciba una secuencia de números (puede ser lista o tupla y los números pueden ser enteros o decimales) y devuelva la cantidad de números, el valor máximo, el mínimo y la media."
   ]
  },
  {
   "cell_type": "code",
   "execution_count": 5,
   "id": "79480331",
   "metadata": {},
   "outputs": [
    {
     "name": "stdout",
     "output_type": "stream",
     "text": [
      "Tenemos 6 elementos, el maximo es 11, el minimo es 2 y la media es 6.666666666666667\n",
      "-------------------------\n",
      "- La longitud de la secuencia es: 6\n",
      "- El valor mínimo de la secuencia es: 2\n",
      "- El valor máximo de la secuencia es: 11\n",
      "- La valor medio de la secuencia es: 6.666666666666667\n",
      "-------------------------\n"
     ]
    }
   ],
   "source": [
    "import functools\n",
    "def contar(secuencia):\n",
    "    numlist=[]\n",
    "    for num in secuencia:\n",
    "        numlist.append(num)\n",
    "    cantidad=len(numlist)\n",
    "    maximo=max(numlist)\n",
    "    minimo=min(numlist)\n",
    "    media=functools.reduce(lambda x,y:x+y,numlist)/cantidad\n",
    "    return cantidad,maximo,minimo,media\n",
    "\n",
    "\n",
    "cantidad,maximo,minimo,media=contar(secuencia=(2,4,6,8,9,11))\n",
    "print(\"Tenemos {} elementos, el maximo es {}, el minimo es {} y la media es {}\" .format(cantidad,maximo,minimo,media))\n",
    "\n",
    "if __name__ == '__main__':\n",
    "    # Obtenemos valores\n",
    "    cantidad,maximo,minimo,media=contar(secuencia=(2,4,6,8,9,11))\n",
    "    \n",
    "    print('-'*25)\n",
    "    print('- La longitud de la secuencia es: {}'.format(cantidad))\n",
    "    print('- El valor mínimo de la secuencia es: {}'.format(minimo))\n",
    "    print('- El valor máximo de la secuencia es: {}'.format(maximo))\n",
    "    print('- La valor medio de la secuencia es: {}'.format(media))\n",
    "    print('-'*25)\n"
   ]
  },
  {
   "cell_type": "markdown",
   "id": "90eefcfa",
   "metadata": {},
   "source": [
    "### **EJERCICIO 2**\n",
    "Escribir un programa que, partiendo de las dos siguientes listas con nombres, borre de la lista uno los nombres de la lista dos.\n",
    "\n",
    " \n",
    "\n",
    "lista_uno = ['Mario', 'Paula', 'David', 'Ana', 'Jorge', 'Ivan', 'Laura', 'Beatriz']\n",
    "\n",
    "lista_dos = ['Paula', 'Francisco', 'Jorge', 'Juan', 'David']"
   ]
  },
  {
   "cell_type": "code",
   "execution_count": 6,
   "id": "5f892268",
   "metadata": {},
   "outputs": [
    {
     "name": "stdout",
     "output_type": "stream",
     "text": [
      "Lista limpia:  ['Mario', 'David', 'Ana', 'Ivan', 'Laura', 'Beatriz']\n"
     ]
    }
   ],
   "source": [
    "lista_uno = ['Mario', 'Paula', 'David', 'Ana', 'Jorge', 'Ivan', 'Laura', 'Beatriz']\n",
    "\n",
    "lista_dos = ['Paula', 'Francisco', 'Jorge', 'Juan', 'David']\n",
    "\n",
    "def reducelista(lista1,lista2):\n",
    "    for i in lista_uno:\n",
    "        if i in lista_dos:\n",
    "            lista_uno.remove(i)\n",
    "    return(lista_uno)\n",
    "\n",
    "if __name__ == '__main__':\n",
    "    # Limpiamos la lista\n",
    "    lista_limpia = reducelista(lista1=lista_uno, \n",
    "                               lista2=lista_dos)\n",
    "    \n",
    "    print('Lista limpia: ', lista_limpia)"
   ]
  },
  {
   "cell_type": "markdown",
   "id": "0732eeef",
   "metadata": {},
   "source": [
    "### **EJERCICIO 3**\n",
    "Dado el siguiente diccionario de datos:\n",
    "\n",
    " \n",
    "\n",
    "precios = {\n",
    "\n",
    "     'ACCIONA': [78.60, 84.95, 77.20],\n",
    "\n",
    "     'ACERINOX': [5.88, 51.25, 58.42],\n",
    "\n",
    "     'INDITEX': [49.99, 57.89, 68.5],\n",
    "\n",
    "     'ENEGAS': [0.5, 0.78, 48.75],\n",
    "\n",
    "    'FERROVIAL': [78.58, 24.25, 65.45]\n",
    "\n",
    "}\n",
    "\n",
    " \n",
    "\n",
    "Modificar cualquier precio inferior a 50 y, finalmente, devolver el diccionario de datos actualizado por cada nombre de empresa."
   ]
  },
  {
   "cell_type": "code",
   "execution_count": 10,
   "id": "b023a17e",
   "metadata": {},
   "outputs": [
    {
     "name": "stdout",
     "output_type": "stream",
     "text": [
      "{'ACCIONA': [78.6, 84.95, 77.2], 'ACERINOX': [50, 51.25, 58.42], 'INDITEX': [50, 57.89, 68.5], 'ENEGAS': [50, 50, 50], 'FERROVIAL': [78.58, 50, 65.45]}\n"
     ]
    }
   ],
   "source": [
    "precios = {\n",
    "\n",
    " 'ACCIONA': [78.60, 84.95, 77.20],\n",
    "\n",
    " 'ACERINOX': [5.88, 51.25, 58.42],\n",
    "\n",
    " 'INDITEX': [49.99, 57.89, 68.5],\n",
    "\n",
    " 'ENEGAS': [0.5, 0.78, 48.75],\n",
    "\n",
    "'FERROVIAL': [78.58, 24.25, 65.45]\n",
    "}\n",
    "\n",
    "def cambiaprecios(listaprecios):\n",
    "    for empresa,valorlist in listaprecios.items():\n",
    "        for value in range(len(valorlist)):\n",
    "            if valorlist[value]<50:\n",
    "                listaprecios[empresa][value]=50\n",
    "            else:\n",
    "                pass\n",
    "    return(listaprecios)\n",
    "\n",
    "\n",
    "if __name__ == \"__main__\":\n",
    "    \n",
    "    print(cambiaprecios(listaprecios=precios))"
   ]
  },
  {
   "cell_type": "code",
   "execution_count": null,
   "id": "52909196",
   "metadata": {},
   "outputs": [],
   "source": []
  }
 ],
 "metadata": {
  "kernelspec": {
   "display_name": "Python 3 (ipykernel)",
   "language": "python",
   "name": "python3"
  },
  "language_info": {
   "codemirror_mode": {
    "name": "ipython",
    "version": 3
   },
   "file_extension": ".py",
   "mimetype": "text/x-python",
   "name": "python",
   "nbconvert_exporter": "python",
   "pygments_lexer": "ipython3",
   "version": "3.9.13"
  }
 },
 "nbformat": 4,
 "nbformat_minor": 5
}
